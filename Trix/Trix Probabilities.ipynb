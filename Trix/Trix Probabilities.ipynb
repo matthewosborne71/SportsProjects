{
 "cells": [
  {
   "cell_type": "markdown",
   "metadata": {},
   "source": [
    "This notebook contains the code I used for this post http://matthew-osborne.com/mtodata/Posts/trix.html."
   ]
  },
  {
   "cell_type": "code",
   "execution_count": null,
   "metadata": {},
   "outputs": [],
   "source": [
    "# Import packages\n",
    "import numpy as np\n",
    "import pandas as pd\n",
    "import matplotlib.pyplot as plt"
   ]
  },
  {
   "cell_type": "code",
   "execution_count": null,
   "metadata": {},
   "outputs": [],
   "source": [
    "# record the path on the back of the box\n",
    "path = [\"Watermelon\", \"Raspberry Red\", \"Wildberry Blue\", \"Banana\", \"Orangey Orange\",\n",
    "       \"Watermelon\", \"Raspberry Red\", \"Grapity Purple\", \"Wildberry Blue\", \"Orangey Orange\",\n",
    "       \"Raspberry Red\", \"Grapity Purple\", \"Wildberry Blue\", \"Banana\", \"Watermelon\",\n",
    "       \"Raspberry Red\", \"Grapity Purple\", \"Wildberry Blue\", \"Banana\", \"Orangey Orange\",\n",
    "       \"Watermelon\", \"Grapity Purple\", \"Wildberry Blue\", \"Banana\", \"Orangey Orange\",\n",
    "       \"Watermelon\", \"Raspberry Red\", \"Grapity Purple\", \"Banana\", \"Orangey Orange\",\n",
    "       \"Watermelon\", \"Raspberry Red\", \"Grapity Purple\", \"Wildberry Blue\", \"Banana\", \n",
    "       \"Orangey Orange\", \"Watermelon\", \"Raspberry Red\", \"end\"]\n",
    "\n",
    "check_dict = {}\n",
    "\n",
    "for fruit in path:\n",
    "    if fruit in check_dict.keys():\n",
    "        check_dict[fruit] = check_dict[fruit] + 1\n",
    "    else:\n",
    "        check_dict[fruit] = 1\n",
    "        \n",
    "print(check_dict)"
   ]
  },
  {
   "cell_type": "code",
   "execution_count": null,
   "metadata": {},
   "outputs": [],
   "source": [
    "# recode it as letters\n",
    "recode_dict = {'Watermelon': 'A',\n",
    "              'Raspberry Red': 'B',\n",
    "              'Wildberry Blue': 'C',\n",
    "              'Banana': 'D',\n",
    "              'Orangey Orange': 'E',\n",
    "              'Grapity Purple': 'F',\n",
    "              'end': 'end'}\n",
    "\n",
    "for i in range(len(path)):\n",
    "    path[i] = recode_dict[path[i]]\n",
    "    \n",
    "path = np.array(path)"
   ]
  },
  {
   "cell_type": "code",
   "execution_count": null,
   "metadata": {},
   "outputs": [],
   "source": [
    "# get the reverse coding for later\n",
    "reverse_recode_dict = {j:i  for i,j in recode_dict.items()}"
   ]
  },
  {
   "cell_type": "code",
   "execution_count": null,
   "metadata": {},
   "outputs": [],
   "source": [
    "fruits = ['A','B','C','D','E','F']"
   ]
  },
  {
   "cell_type": "code",
   "execution_count": null,
   "metadata": {},
   "outputs": [],
   "source": [
    "# make all possible draws\n",
    "draws = []\n",
    "\n",
    "for one in fruits:\n",
    "    for two in fruits:\n",
    "        for three in fruits:\n",
    "            for four in fruits:\n",
    "                for five in fruits:\n",
    "                    for six in fruits:\n",
    "                        for seven in fruits:\n",
    "                            draws.append(one+two+three+four+five+six+seven)\n"
   ]
  },
  {
   "cell_type": "code",
   "execution_count": null,
   "metadata": {},
   "outputs": [],
   "source": [
    "# which ones win?\n",
    "win_lose = []\n",
    "\n",
    "for i in range(len(draws)):\n",
    "    win_lose.append(0)\n",
    "    position=-1\n",
    "    for j in draws[i]:\n",
    "        if j in path[position+1:]:\n",
    "            position = np.where(path==j)[0][np.where(path==j)[0]>position][0]\n",
    "        else:\n",
    "            #print(i,\"here\")\n",
    "            win_lose[i] = 1"
   ]
  },
  {
   "cell_type": "code",
   "execution_count": null,
   "metadata": {},
   "outputs": [],
   "source": [
    "# checking something\n",
    "np.sum(win_lose)/len(win_lose)"
   ]
  },
  {
   "cell_type": "code",
   "execution_count": null,
   "metadata": {},
   "outputs": [],
   "source": [
    "# get probabilities assuming the starting piece distribution below\n",
    "probs = np.ones(len(draws))\n",
    "\n",
    "for i in range(len(draws)):\n",
    "    cereal_counts = {'A':347, 'B':347, 'C':347,\n",
    "                    'D':347, 'E':347, 'F':347}\n",
    "    position=-1\n",
    "    for j in draws[i]:\n",
    "        probs[i] = probs[i]*(cereal_counts[j]/(np.sum([cereal_counts[letter] for letter in cereal_counts.keys()])))\n",
    "        cereal_counts[j] = cereal_counts[j] - 1"
   ]
  },
  {
   "cell_type": "code",
   "execution_count": null,
   "metadata": {},
   "outputs": [],
   "source": [
    "# make a df\n",
    "trix_df = pd.DataFrame({'draw':draws,'outcome':win_lose,'prob_of_draw':probs})"
   ]
  },
  {
   "cell_type": "code",
   "execution_count": null,
   "metadata": {},
   "outputs": [],
   "source": [
    "len(trix_df.loc[trix_df.outcome==1])/len(trix_df)"
   ]
  },
  {
   "cell_type": "code",
   "execution_count": null,
   "metadata": {},
   "outputs": [],
   "source": [
    "trix_df['first_draw'] = trix_df['draw'].apply(lambda x: reverse_recode_dict[x[0]])"
   ]
  },
  {
   "cell_type": "code",
   "execution_count": null,
   "metadata": {},
   "outputs": [],
   "source": [
    "trix_df['second_draw'] = trix_df['draw'].apply(lambda x: reverse_recode_dict[x[1]])"
   ]
  },
  {
   "cell_type": "code",
   "execution_count": null,
   "metadata": {},
   "outputs": [],
   "source": [
    "trix_df['third_draw'] = trix_df['draw'].apply(lambda x: reverse_recode_dict[x[2]])"
   ]
  },
  {
   "cell_type": "code",
   "execution_count": null,
   "metadata": {},
   "outputs": [],
   "source": [
    "trix_df['fourth_draw'] = trix_df['draw'].apply(lambda x: reverse_recode_dict[x[3]])"
   ]
  },
  {
   "cell_type": "code",
   "execution_count": null,
   "metadata": {},
   "outputs": [],
   "source": [
    "trix_df['fifth_draw'] = trix_df['draw'].apply(lambda x: reverse_recode_dict[x[4]])"
   ]
  },
  {
   "cell_type": "code",
   "execution_count": null,
   "metadata": {},
   "outputs": [],
   "source": [
    "trix_df['sixth_draw'] = trix_df['draw'].apply(lambda x: reverse_recode_dict[x[5]])"
   ]
  },
  {
   "cell_type": "code",
   "execution_count": null,
   "metadata": {},
   "outputs": [],
   "source": [
    "trix_df['seventh_draw'] = trix_df['draw'].apply(lambda x: reverse_recode_dict[x[6]])"
   ]
  },
  {
   "cell_type": "code",
   "execution_count": null,
   "metadata": {},
   "outputs": [],
   "source": [
    "trix_df.head()"
   ]
  },
  {
   "cell_type": "code",
   "execution_count": null,
   "metadata": {},
   "outputs": [],
   "source": [
    "# write to file like this because pandas rounds too much\n",
    "file = open(\"trix_df.csv\",\"w+\")\n",
    "\n",
    "file.write(\"draw,outcome,prob_of_draw,first_draw,second_draw,third_draw,fourth_draw,fifth_draw,sixth_draw,seventh_draw\\n\")\n",
    "\n",
    "for i in range(len(probs)):\n",
    "    file.write(trix_df.draw[i] + \",\" + str(trix_df.outcome[i]) + \",\" + str(probs[i]) + \",\" + \n",
    "               trix_df.first_draw[i] + \",\" + trix_df.second_draw[i] + \",\" + trix_df.third_draw[i] + \",\" + \n",
    "               trix_df.fourth_draw[i] + \",\" + trix_df.fifth_draw[i] + \",\" + trix_df.sixth_draw[i] + \",\" +\n",
    "               trix_df.seventh_draw[i] + \"\\n\")\n",
    "    \n",
    "file.close()"
   ]
  }
 ],
 "metadata": {
  "kernelspec": {
   "display_name": "Python 3",
   "language": "python",
   "name": "python3"
  },
  "language_info": {
   "codemirror_mode": {
    "name": "ipython",
    "version": 3
   },
   "file_extension": ".py",
   "mimetype": "text/x-python",
   "name": "python",
   "nbconvert_exporter": "python",
   "pygments_lexer": "ipython3",
   "version": "3.7.4"
  }
 },
 "nbformat": 4,
 "nbformat_minor": 2
}
